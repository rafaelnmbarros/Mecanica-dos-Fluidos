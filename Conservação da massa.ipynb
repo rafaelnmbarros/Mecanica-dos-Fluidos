{
 "cells": [
  {
   "cell_type": "code",
   "execution_count": 26,
   "metadata": {},
   "outputs": [],
   "source": [
    "import sympy as sp\n",
    "from sympy import *\n",
    "sp.init_printing(use_latex=\"mathjax\")\n",
    "\n",
    "\n"
   ]
  },
  {
   "cell_type": "code",
   "execution_count": 45,
   "metadata": {},
   "outputs": [
    {
     "name": "stdout",
     "output_type": "stream",
     "text": [
      "Resposta:\n",
      "-----------------------------------\n",
      "Vazão:            Q =  0.1885 m3/s\n",
      "Velocidade média: V =  1.5000 m/s\n",
      "------------ FIM ------------------\n"
     ]
    }
   ],
   "source": [
    "import sympy as sp\n",
    "from sympy import *\n",
    "sp.init_printing(use_latex=\"mathjax\")\n",
    "\n",
    "r=sp.symbols(\"r\")\n",
    "\n",
    "u=3*(1-25*r**2)                      # equação da velocidade ao longo do raio r\n",
    "R=0.2                                # raio do tubo, em metros\n",
    "\n",
    "A=sp.pi*R**2                         # área total da seção do tubo\n",
    "dA=2*sp.pi*r                         #área diferencial da seção do tubo\n",
    "Q=float(sp.integrate(u*dA,(r,0,R)))  # cálculo da vazão\n",
    "V=Q/A\n",
    "\n",
    "print('Resposta:')\n",
    "print('-----------------------------------')\n",
    "print('Vazão:            Q = ',round(Q,4), 'm3/s')\n",
    "print('Velocidade média: V = ',round(V,4), 'm/s')\n",
    "print('------------ FIM ------------------')"
   ]
  },
  {
   "cell_type": "code",
   "execution_count": 84,
   "metadata": {},
   "outputs": [
    {
     "name": "stdout",
     "output_type": "stream",
     "text": [
      "Resposta:\n",
      "-----------------------------------\n",
      "Vazão:            Q =  259.2 m3/s\n",
      "Velocidade média: V =  5.4 m/s\n",
      "------------ FIM ------------------\n"
     ]
    }
   ],
   "source": [
    "#Problema 4-24\n",
    "\n",
    "import sympy as sp\n",
    "from sympy import *\n",
    "sp.init_printing(use_latex=\"mathjax\")\n",
    "\n",
    "y=sp.symbols(\"y\")\n",
    "\n",
    "u=0.8*(1.25*y+0.25*y**2)             # equação da velocidade ao longo da altura h\n",
    "H=6                                  # altura total do canal\n",
    "B=8 # largura do canal\n",
    "\n",
    "A=B*H                                # área total da seção do tubo\n",
    "dA=B                                 #área diferencial da seção do tubo\n",
    "Q=float(sp.integrate(u*dA,(y,0,H)))  # cálculo da vazão\n",
    "V=Q/A\n",
    "\n",
    "print('Resposta:')\n",
    "print('-----------------------------------')\n",
    "print('Vazão:            Q = ',round(Q,4), 'm3/s')\n",
    "print('Velocidade média: V = ',round(V,4), 'm/s')\n",
    "print('------------ FIM ------------------')"
   ]
  },
  {
   "cell_type": "code",
   "execution_count": 64,
   "metadata": {},
   "outputs": [
    {
     "name": "stdout",
     "output_type": "stream",
     "text": [
      "Resposta:\n",
      "-----------------------------------\n",
      "Vazão:            Q =  0.0493 m3/s\n",
      "Velocidade média: V =  0.1233 m/s\n",
      "------------ FIM ------------------\n"
     ]
    }
   ],
   "source": [
    "#Problema 4-27\n",
    "import sympy as sp\n",
    "from sympy import *\n",
    "sp.init_printing(use_latex=\"mathjax\")\n",
    "import math\n",
    "\n",
    "y=sp.symbols(\"y\")\n",
    "\n",
    "u=3*(math.e**(0.2*y)-1)             # equação da velocidade ao longo da altura h\n",
    "H=0.4                                  # altura total do canal\n",
    "B=1 # largura do canal\n",
    "\n",
    "A=B*H                                # área total da seção do tubo\n",
    "dA=B                                 #área diferencial da seção do tubo\n",
    "Q=float(sp.integrate(u*dA,(y,0,H)))  # cálculo da vazão\n",
    "V=Q/A\n",
    "\n",
    "print('Resposta:')\n",
    "print('-----------------------------------')\n",
    "print('Vazão:            Q = ',round(Q,4), 'm3/s')\n",
    "print('Velocidade média: V = ',round(V,4), 'm/s')\n",
    "print('------------ FIM ------------------')"
   ]
  },
  {
   "cell_type": "code",
   "execution_count": 96,
   "metadata": {},
   "outputs": [
    {
     "name": "stdout",
     "output_type": "stream",
     "text": [
      "Resposta:\n",
      "-----------------------------------\n",
      "Q = \n"
     ]
    },
    {
     "data": {
      "text/latex": [
       "$\\displaystyle 0.816666666666667 \\pi R^{2} U$"
      ],
      "text/plain": [
       "                     2  \n",
       "0.816666666666667⋅π⋅R ⋅U"
      ]
     },
     "metadata": {},
     "output_type": "display_data"
    },
    {
     "name": "stdout",
     "output_type": "stream",
     "text": [
      "V = \n"
     ]
    },
    {
     "data": {
      "text/latex": [
       "$\\displaystyle 0.816666666666667 U$"
      ],
      "text/plain": [
       "0.816666666666667⋅U"
      ]
     },
     "metadata": {},
     "output_type": "display_data"
    },
    {
     "name": "stdout",
     "output_type": "stream",
     "text": [
      "------------ FIM ------------------\n"
     ]
    }
   ],
   "source": [
    "#Problema 4-29\n",
    "import sympy as sp\n",
    "from sympy import *\n",
    "sp.init_printing(use_latex=\"mathjax\")\n",
    "import math\n",
    "\n",
    "y, U, R = sp.symbols(\"y U R\")\n",
    "\n",
    "u=U*(y/R)**(1/7)             # equação da velocidade ao longo da altura h\n",
    "#H=0.4                                  # altura total do canal\n",
    "#B=1 # largura do canal\n",
    "\n",
    "A=sp.pi*R**2                                # área total da seção do tubo\n",
    "r=R-y\n",
    "dA=2*sp.pi*r                                 #área diferencial da seção do tubo\n",
    "Q=sp.integrate(u*dA,(y,0,R))  # cálculo da vazão\n",
    "V=Q/A\n",
    "\n",
    "print('Resposta:')\n",
    "print('-----------------------------------')\n",
    "print('Q = ')\n",
    "display(Q)\n",
    "print('V = ')\n",
    "display(V)\n",
    "print('------------ FIM ------------------')"
   ]
  },
  {
   "cell_type": "code",
   "execution_count": 97,
   "metadata": {},
   "outputs": [
    {
     "name": "stdout",
     "output_type": "stream",
     "text": [
      "Resposta:\n",
      "-----------------------------------\n",
      "Vazão:            Q =  1.1906 m3/s\n",
      "Velocidade média: V =  4.7622 m/s\n",
      "------------ FIM ------------------\n"
     ]
    }
   ],
   "source": [
    "#Problema 4-31\n",
    "import sympy as sp\n",
    "from sympy import *\n",
    "sp.init_printing(use_latex=\"mathjax\")\n",
    "import math\n",
    "\n",
    "y=sp.symbols(\"y\")\n",
    "\n",
    "u=(8*y**(1/3))             # equação da velocidade ao longo da altura h\n",
    "H=0.5                                  # altura total do canal\n",
    "B=0.5 # largura do canal\n",
    "\n",
    "A=B*H                                # área total da seção do tubo\n",
    "dA=B                                 #área diferencial da seção do tubo\n",
    "Q=float(sp.integrate(u*dA,(y,0,H)))  # cálculo da vazão\n",
    "V=Q/A\n",
    "\n",
    "print('Resposta:')\n",
    "print('-----------------------------------')\n",
    "print('Vazão:            Q = ',round(Q,4), 'm3/s')\n",
    "print('Velocidade média: V = ',round(V,4), 'm/s')\n",
    "print('------------ FIM ------------------')"
   ]
  }
 ],
 "metadata": {
  "kernelspec": {
   "display_name": "Python 3.8.8 ('base')",
   "language": "python",
   "name": "python3"
  },
  "language_info": {
   "codemirror_mode": {
    "name": "ipython",
    "version": 3
   },
   "file_extension": ".py",
   "mimetype": "text/x-python",
   "name": "python",
   "nbconvert_exporter": "python",
   "pygments_lexer": "ipython3",
   "version": "3.8.8"
  },
  "orig_nbformat": 4,
  "vscode": {
   "interpreter": {
    "hash": "ec1eed7ba1d2779ad571cb3d56c9cc2145750a9a366aa19de7670ee4a571ff8d"
   }
  }
 },
 "nbformat": 4,
 "nbformat_minor": 2
}
