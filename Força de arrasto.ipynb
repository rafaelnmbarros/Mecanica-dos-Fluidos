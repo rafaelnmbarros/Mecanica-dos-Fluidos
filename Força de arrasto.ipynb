{
 "cells": [
  {
   "cell_type": "markdown",
   "metadata": {},
   "source": [
    "## Problema 11-56\n",
    "O cartaz está sujeito a um perfil de vento que  produz uma distribuição de pressão que pode ser  aproximada por p = (112,5 ry0,6) Pa, onde y está em  metros. Determine a força de pressão resultante no  cartaz devida ao vento. O ar está a uma temperatura  de 20ºC e o cartaz tem 0,5 m de largura. \n",
    "\n",
    "Hibbeler, R. C.. Mecânica dos fluidos (p. 563). Edição do Kindle.\n",
    "\n",
    "![teste](Captura de tela 2022-07-16 095633.png)"
   ]
  },
  {
   "cell_type": "code",
   "execution_count": 1,
   "metadata": {},
   "outputs": [],
   "source": [
    "import sympy as sp\n",
    "from sympy import *\n",
    "sp.init_printing(use_latex=\"mathjax\")\n"
   ]
  },
  {
   "cell_type": "code",
   "execution_count": 22,
   "metadata": {},
   "outputs": [
    {
     "data": {
      "text/latex": [
       "$\\displaystyle 4.60110149710724$"
      ],
      "text/plain": [
       "4.60110149710724"
      ]
     },
     "execution_count": 22,
     "metadata": {},
     "output_type": "execute_result"
    }
   ],
   "source": [
    "y, b, ro = sp.symbols('y b \\\\rho')\n",
    "\n",
    "p=(112.5*ro*y**0.6)\n",
    "\n",
    "FR=sp.integrate(p*b, (y,3,6)).subs([(b, 0.5), (ro, 1.202)])\n",
    "yc=(sp.integrate(y*p*b, (y,3,6))/FR).subs([(b, 0.5), (ro, 1.202)])\n",
    "yc\n"
   ]
  }
 ],
 "metadata": {
  "kernelspec": {
   "display_name": "Python 3.8.8 ('base')",
   "language": "python",
   "name": "python3"
  },
  "language_info": {
   "codemirror_mode": {
    "name": "ipython",
    "version": 3
   },
   "file_extension": ".py",
   "mimetype": "text/x-python",
   "name": "python",
   "nbconvert_exporter": "python",
   "pygments_lexer": "ipython3",
   "version": "3.8.8"
  },
  "orig_nbformat": 4,
  "vscode": {
   "interpreter": {
    "hash": "ec1eed7ba1d2779ad571cb3d56c9cc2145750a9a366aa19de7670ee4a571ff8d"
   }
  }
 },
 "nbformat": 4,
 "nbformat_minor": 2
}
