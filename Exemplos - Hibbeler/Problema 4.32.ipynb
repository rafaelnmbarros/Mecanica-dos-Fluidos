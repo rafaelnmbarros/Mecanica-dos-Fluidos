{
 "cells": [
  {
   "cell_type": "markdown",
   "metadata": {},
   "source": [
    "## Problema 4.32\n",
    "O perfil de velocidade para um líquido no canal é determinado experimentalmente e descobriu-  -se que se ajusta à equação u = (8y1/3) m/s, onde y está  em metros. Determine a velocidade média do líquido. O canal possui uma largura de 0,5 m. \n",
    "\n",
    "Hibbeler, R. C.. Mecânica dos fluidos (p. 181). Edição do Kindle. "
   ]
  },
  {
   "cell_type": "code",
   "execution_count": 23,
   "metadata": {},
   "outputs": [
    {
     "name": "stdout",
     "output_type": "stream",
     "text": [
      "Q = 1.190551 m3/s\n",
      "Vm = 4.762203 m/s\n"
     ]
    }
   ],
   "source": [
    "import sympy as sp\n",
    "from sympy import *\n",
    "sp.init_printing(use_latex=\"mathjax\")\n",
    "\n",
    "u, y = sp.symbols('u y')\n",
    "u=8*y**(1/3)\n",
    "h = 0.5\n",
    "b=0.5\n",
    "A=b*h\n",
    "\n",
    "Q=sp.integrate(u*b, (y, 0, h))\n",
    "Vm=Q/A\n",
    "\n",
    "\n",
    "print(\"Q = %f m3/s\" % Q)\n",
    "print(\"Vm = %f m/s\" % Vm)"
   ]
  }
 ],
 "metadata": {
  "kernelspec": {
   "display_name": "Python 3.8.8 ('base')",
   "language": "python",
   "name": "python3"
  },
  "language_info": {
   "codemirror_mode": {
    "name": "ipython",
    "version": 3
   },
   "file_extension": ".py",
   "mimetype": "text/x-python",
   "name": "python",
   "nbconvert_exporter": "python",
   "pygments_lexer": "ipython3",
   "version": "3.8.8"
  },
  "orig_nbformat": 4,
  "vscode": {
   "interpreter": {
    "hash": "ec1eed7ba1d2779ad571cb3d56c9cc2145750a9a366aa19de7670ee4a571ff8d"
   }
  }
 },
 "nbformat": 4,
 "nbformat_minor": 2
}
