{
 "cells": [
  {
   "cell_type": "code",
   "execution_count": 1,
   "metadata": {},
   "outputs": [],
   "source": [
    "import sympy as sp\n",
    "from sympy import *\n",
    "sp.init_printing(use_latex=\"mathjax\")\n"
   ]
  },
  {
   "cell_type": "code",
   "execution_count": 11,
   "metadata": {},
   "outputs": [
    {
     "data": {
      "text/latex": [
       "$\\displaystyle 26.519750254842$"
      ],
      "text/plain": [
       "26.5197502548420"
      ]
     },
     "execution_count": 11,
     "metadata": {},
     "output_type": "execute_result"
    }
   ],
   "source": [
    "gama, g, pe, Ve, ze, hb, ps, Vs, zs, ht, hL = sp.symbols('\\gamma g p_{entrada} V_{entrada} z_{entrada} h_{bomba} p_{saída} V_{saída} z_{saída} h_{turbina} h_{L}')\n",
    "\n",
    "Eq_energia = Eq(pe/gama+Ve**2/(2*g)+ze+hb, ps/gama+Vs**2/(2*g)+zs+ht+hL)\n",
    "\n",
    "peso_esp=9810\n",
    "gravidade=9.81\n",
    "press_ent=0\n",
    "Velocidade_entrada=0\n",
    "sp.solveset(Eq_energia.subs([(gama, 9810), (g, 9.81), (pe, 0), (Ve, 0), (ze,60), (hb,0), (ps, 0), (Vs, 24.05), (zs, 0), (ht,ht), (hL, 4)]), ht).args[0]"
   ]
  },
  {
   "cell_type": "markdown",
   "metadata": {},
   "source": [
    "Equação de Bernoulli<br>\n",
    "$\\frac{p_A}{\\gamma}+\\frac{V_A^2}{2g}+z_A+h_A =\\frac{p_B}{\\gamma}+\\frac{V_B^2}{2g}+z_B+h_B+h_L $"
   ]
  },
  {
   "cell_type": "code",
   "execution_count": 19,
   "metadata": {},
   "outputs": [
    {
     "data": {
      "text/latex": [
       "$\\displaystyle 67.3682282$"
      ],
      "text/plain": [
       "67.3682282000000"
      ]
     },
     "metadata": {},
     "output_type": "display_data"
    }
   ],
   "source": [
    "import sympy as sp\n",
    "from sympy import *\n",
    "sp.init_printing(use_latex=\"mathjax\")\n",
    "gama, g, pe, Ve, ze, hb, ps, Vs, zs, ht, hL = sp.symbols('\\gamma g p_{entrada} V_{entrada} z_{entrada} h_{bomba} p_{saída} V_{saída} z_{saída} h_{turbina} h_{L}')\n",
    "\n",
    "Eq_energia = Eq(pe/gama+Ve**2/(2*g)+ze+hb, ps/gama+Vs**2/(2*g)+zs+ht+hL)\n",
    "\n",
    "#================================================\n",
    "#ENTRADA DE DADOS\n",
    "#================================================\n",
    "peso_esp=1.939*32.2\n",
    "gravidade=32.32\n",
    "\n",
    "#Entrada do sistema\n",
    "#------------------------------------------------\n",
    "press_entrada=pe\n",
    "Velocidade_entrada=12.22\n",
    "cota_entrada=12*4/100\n",
    "h_entrada=0\n",
    "\n",
    "#Saída do sistema\n",
    "#------------------------------------------------\n",
    "press_saida=0\n",
    "Velocidade_saida=12.22\n",
    "cota_saida=0\n",
    "h_saida=0\n",
    "\n",
    "#Perda de carga\n",
    "#------------------------------------------------\n",
    "perda_carga_dist=1.559\n",
    "\n",
    "#Variável a ser calculada\n",
    "#------------------------------------------------\n",
    "variavel=pe\n",
    "\n",
    "#================================================\n",
    "#CÁLCULO\n",
    "#================================================\n",
    "resultado=sp.solveset(Eq_energia.subs([(gama, peso_esp), (g, gravidade), (pe, press_entrada), (Ve, Velocidade_entrada), (ze,cota_entrada), (hb,h_entrada), (ps, press_saida), (Vs, Velocidade_saida), (zs, cota_saida), (ht,h_saida), (hL, perda_carga_dist)]), variavel).args[0]\n",
    "\n",
    "#================================================\n",
    "#SAÍDA DE DADOS\n",
    "#================================================\n",
    "display(resultado)"
   ]
  }
 ],
 "metadata": {
  "kernelspec": {
   "display_name": "Python 3.8.8 ('base')",
   "language": "python",
   "name": "python3"
  },
  "language_info": {
   "codemirror_mode": {
    "name": "ipython",
    "version": 3
   },
   "file_extension": ".py",
   "mimetype": "text/x-python",
   "name": "python",
   "nbconvert_exporter": "python",
   "pygments_lexer": "ipython3",
   "version": "3.8.8"
  },
  "orig_nbformat": 4,
  "vscode": {
   "interpreter": {
    "hash": "ec1eed7ba1d2779ad571cb3d56c9cc2145750a9a366aa19de7670ee4a571ff8d"
   }
  }
 },
 "nbformat": 4,
 "nbformat_minor": 2
}
